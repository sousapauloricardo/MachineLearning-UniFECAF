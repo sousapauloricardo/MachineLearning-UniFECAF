{
 "cells": [
  {
   "cell_type": "code",
   "execution_count": 1,
   "id": "b7204d72",
   "metadata": {},
   "outputs": [],
   "source": [
    "import numpy as np\n",
    "import re\n",
    "from collections import defaultdict, Counter\n",
    "import matplotlib.pyplot as plt"
   ]
  },
  {
   "cell_type": "code",
   "execution_count": 3,
   "id": "c098a718",
   "metadata": {},
   "outputs": [],
   "source": [
    "def limpar_texto(texto):\n",
    "    texto = texto.lower()\n",
    "    texto = re.sub(r'[^\\w\\s]', ' ', texto)\n",
    "    texto = re.sub(r'\\d+', ' ', texto)\n",
    "    texto = re.sub(r'\\s+', ' ', texto)\n",
    "    return texto.strip()"
   ]
  },
  {
   "cell_type": "code",
   "execution_count": 4,
   "id": "277d9ada",
   "metadata": {},
   "outputs": [],
   "source": [
    "def ler_arquivo_txt(caminho):\n",
    "    try:\n",
    "        with open(caminho, 'r', encoding='utf-8') as arquivo:\n",
    "            return arquivo.read()\n",
    "    except FileNotFoundError:\n",
    "        print(f\"Erro: Arquivo '{caminho}' não encontrado.\")\n",
    "        return \"\"\n",
    "    except Exception as e:\n",
    "        print(f\"Erro ao ler arquivo: {str(e)}\")\n",
    "        return \"\""
   ]
  },
  {
   "cell_type": "code",
   "execution_count": 16,
   "id": "54fe469f",
   "metadata": {},
   "outputs": [],
   "source": [
    "class ModeloNGram:\n",
    "    def __init__(self, n):\n",
    "        self.n = n\n",
    "        self.contagens = defaultdict(Counter)\n",
    "        self.modelo = {}\n",
    "\n",
    "    def treinar(self, palavras):\n",
    "        for i in range(len(palavras) - self.n + 1):\n",
    "            contexto = tuple(palavras[i:i+self.n-1])\n",
    "            alvo = palavras[i+self.n-1]\n",
    "            self.contagens[contexto][alvo] += 1\n",
    "\n",
    "        for contexto, alvos in self.contagens.items():\n",
    "            total = sum(alvos.values())\n",
    "            self.modelo[contexto] = {\n",
    "                palavra: freq / total for palavra, freq in alvos.items()\n",
    "            }\n",
    "\n",
    "    def proxima_palavra(self, contexto):\n",
    "        contexto = tuple(contexto[-(self.n-1):]) if self.n > 1 else ()\n",
    "        if contexto in self.modelo:\n",
    "            palavras = list(self.modelo[contexto].keys())\n",
    "            probs = list(self.modelo[contexto].values())\n",
    "            return np.random.choice(palavras, p=probs)\n",
    "        return None\n",
    "\n",
    "    def gerar_texto(self, contexto_inicial, quantidade=15):\n",
    "        if isinstance(contexto_inicial, str):\n",
    "            contexto_inicial = contexto_inicial.split()\n",
    "        if len(contexto_inicial) < self.n - 1:\n",
    "            raise ValueError(f\"Contexto inicial deve ter pelo menos {self.n - 1} palavras\")\n",
    "        texto = list(contexto_inicial)\n",
    "        for _ in range(quantidade):\n",
    "            prox = self.proxima_palavra(texto)\n",
    "            if not prox:\n",
    "                break\n",
    "            texto.append(prox)\n",
    "        return ' '.join(texto)"
   ]
  },
  {
   "cell_type": "code",
   "execution_count": 19,
   "id": "59bd0274",
   "metadata": {},
   "outputs": [],
   "source": [
    "def main():\n",
    "    # Configurações\n",
    "    ARQUIVO_TXT = \"corpus.txt\"  # Altere para o caminho do seu arquivo\n",
    "    ORDEM_NGRAM = 3  # Pode ajustar para 2, 3, 4 conforme necessidade\n",
    "    \n",
    "    # Leitura do arquivo\n",
    "    texto_corpus = ler_arquivo_txt(ARQUIVO_TXT)\n",
    "    if not texto_corpus:\n",
    "        print(\"Nenhum texto encontrado para treinamento.\")\n",
    "        return\n",
    "    \n",
    "    # Pré-processamento\n",
    "    palavras = limpar_texto(texto_corpus).split()\n",
    "    print(f\"Texto carregado: {len(palavras)} palavras\")\n",
    "    \n",
    "    # Treinamento do modelo\n",
    "    modelo = ModeloNGram(ORDEM_NGRAM)\n",
    "    modelo.treinar(palavras)\n",
    "    \n",
    "    # Exemplo de geração de texto\n",
    "    semente = palavras[:800]\n",
    "    try:\n",
    "        texto_gerado = modelo.gerar_texto(semente, 1000)\n",
    "        print(\"\\nTexto gerado a partir da semente:\", semente)\n",
    "        print(texto_gerado)\n",
    "    except Exception as e:\n",
    "        print(f\"Erro ao gerar texto: {str(e)}\")\n"
   ]
  },
  {
   "cell_type": "code",
   "execution_count": 20,
   "id": "d8941026",
   "metadata": {},
   "outputs": [
    {
     "name": "stdout",
     "output_type": "stream",
     "text": [
      "Texto carregado: 1437 palavras\n",
      "\n",
      "Texto gerado a partir da semente: ['jinx', 'detesta', 'saiotes', 'corseletes', 'também', 'no', 'entanto', 'ela', 'sorriu', 'maliciosamente', 'pensando', 'no', 'que', 'faria', 'com', 'o', 'espaço', 'sobressalente', 'do', 'vestido', 'que', 'roubara', 'suas', 'tranças', 'azuis', 'ficaram', 'escondidas', 'sob', 'um', 'chapéu', 'de', 'plumas', 'ridículo', 'que', 'era', 'a', 'última', 'moda', 'em', 'piltover', 'ela', 'perambulou', 'entre', 'os', 'convidados', 'do', 'casamento', 'mantendo', 'o', 'sorriso', 'firme', 'e', 'tentando', 'não', 'gritar', 'com', 'as', 'pessoas', 'de', 'olhares', 'mortos', 'ao', 'seu', 'redor', 'ela', 'precisou', 'se', 'esforçar', 'para', 'não', 'pegar', 'cada', 'uma', 'pelos', 'ombros', 'e', 'sacudi', 'las', 'até', 'acordarem', 'jinx', 'estava', 'lá', 'para', 'explodir', 'o', 'observatório', 'acima', 'da', 'mansão', 'do', 'conde', 'sandvik', 'mas', 'quando', 'viu', 'que', 'havia', 'um', 'casamento', 'em', 'andamento', 'bem', 'era', 'uma', 'oportunidade', 'boa', 'demais', 'de', 'destruição', 'para', 'ser', 'deixada', 'de', 'lado', 'o', 'conde', 'não', 'havia', 'poupado', 'em', 'tornar', 'o', 'casamento', 'da', 'filha', 'um', 'grande', 'espetáculo', 'a', 'nata', 'da', 'sociedade', 'de', 'piltover', 'estava', 'lá', 'os', 'chefes', 'dos', 'grandes', 'clãs', 'grandes', 'artífices', 'de', 'hextec', 'e', 'até', 'mesmo', 'nicodemus', 'conseguira', 'um', 'convite', 'o', 'chefe', 'da', 'guarda', 'parecia', 'um', 'poro', 'gordo', 'no', 'seu', 'uniforme', 'de', 'gala', 'com', 'o', 'peito', 'estufado', 'e', 'olhos', 'arregalados', 'perante', 'a', 'mesa', 'do', 'banquete', 'a', 'música', 'de', 'uma', 'pequena', 'orquestra', 'soava', 'entre', 'os', 'convidados', 'tão', 'lenta', 'e', 'ponderosa', 'que', 'fazia', 'jinx', 'querer', 'bocejar', 'ela', 'preferia', 'a', 'música', 'de', 'bater', 'os', 'pés', 'e', 'girar', 'até', 'vomitar', 'de', 'zaun', 'hexlúmens', 'com', 'zoetrópios', 'e', 'lentes', 'de', 'ângulos', 'estranhos', 'projetavam', 'dançarinos', 'espectrais', 'no', 'chão', 'que', 'faziam', 'piruetas', 'e', 'giravam', 'para', 'o', 'agrado', 'das', 'crianças', 'sorridentes', 'que', 'nunca', 'passaram', 'fome', 'sentiram', 'dor', 'ou', 'perderam', 'algo', 'na', 'vida', 'mímicos', 'e', 'prestidigitadores', 'se', 'moviam', 'pelo', 'público', 'agradando', 'os', 'convidados', 'com', 'os', 'seus', 'truques', 'de', 'cartas', 'jinx', 'já', 'havia', 'visto', 'melhores', 'os', 'arruaceiros', 'dos', 'mercados', 'da', 'fronteira', 'fariam', 'muito', 'melhor', 'do', 'que', 'qualquer', 'um', 'desses', 'artistas', 'retratos', 'dos', 'mandachuvas', 'de', 'piltover', 'podiam', 'ser', 'vistos', 'nas', 'paredes', 'revestidas', 'em', 'carvalho', 'trabalhado', 'com', 'cobre', 'os', 'homens', 'e', 'mulheres', 'dos', 'retratos', 'olhavam', 'de', 'cima', 'para', 'as', 'pessoas', 'abaixo', 'com', 'um', 'ar', 'de', 'arrogância', 'jinx', 'mostrou', 'a', 'língua', 'para', 'cada', 'um', 'deles', 'enquanto', 'passava', 'sorrindo', 'com', 'a', 'sua', 'reação', 'de', 'desaprovação', 'janelas', 'com', 'vidros', 'coloridos', 'pintavam', 'o', 'mosaico', 'do', 'piso', 'com', 'arco', 'íris', 'jinx', 'saltitava', 'alegremente', 'sobre', 'os', 'quadrados', 'ao', 'abrir', 'caminho', 'para', 'uma', 'mesa', 'cheia', 'de', 'comida', 'que', 'alimentaria', 'centenas', 'de', 'famílias', 'em', 'zaun', 'por', 'um', 'mês', 'um', 'garçom', 'uniformizado', 'passou', 'por', 'ela', 'carregando', 'uma', 'bandeja', 'de', 'prata', 'com', 'copos', 'cheios', 'de', 'algo', 'dourado', 'e', 'espumante', 'ela', 'pegou', 'um', 'com', 'cada', 'mão', 'e', 'saiu', 'girando', 'e', 'sorrindo', 'a', 'espuma', 'manchou', 'as', 'partes', 'de', 'trás', 'de', 'vestidos', 'e', 'smokings', 'dos', 'convidados', 'ao', 'seu', 'redor', 'e', 'ela', 'apenas', 'riu', 'bebam', 'disse', 'ela', 'virando', 'o', 'que', 'restava', 'nos', 'copos', 'ela', 'se', 'abaixou', 'desajeitadamente', 'e', 'colocou', 'os', 'copos', 'no', 'chão', 'de', 'mosaico', 'bem', 'no', 'caminho', 'dos', 'que', 'vinham', 'dançando', 'e', 'arrotou', 'as', 'primeiras', 'notas', 'de', 'vi', 'cabeça', 'de', 'melão', 'uma', 'canção', 'que', 'ela', 'inventou', 'ali', 'mesmo', 'grupos', 'de', 'senhoritas', 'da', 'alta', 'sociedade', 'desdenharam', 'a', 'sua', 'falta', 'de', 'modos', 'e', 'jinx', 'cobriu', 'a', 'boca', 'com', 'olhos', 'arregalados', 'fingindo', 'vergonha', 'em', 'deboche', 'desculpe', 'escapou', 'de', 'propósito', 'ela', 'continuou', 'saltitante', 'e', 'pegou', 'um', 'punhado', 'de', 'umas', 'coisas', 'de', 'peixe', 'estranhas', 'da', 'bandeja', 'de', 'outro', 'garçom', 'as', 'arremessou', 'para', 'cima', 'e', 'pegou', 'pelo', 'menos', 'uma', 'com', 'a', 'boca', 'algumas', 'caíram', 'no', 'seu', 'busto', 'incrementado', 'e', 'ela', 'as', 'pegou', 'com', 'a', 'alegria', 'de', 'um', 'minerador', 'do', 'sumidouro', 'que', 'recém', 'havia', 'encontrado', 'algo', 'brilhante', 'na', 'lama', 'achavam', 'que', 'iriam', 'escapar', 'de', 'mim', 'peixinhozinhos', 'disse', 'ela', 'balançando', 'um', 'dedo', 'a', 'cada', 'petisco', 'pois', 'se', 'enganaram', 'jinx', 'enfiou', 'a', 'comida', 'na', 'boca', 'e', 'acomodou', 'o', 'vestido', 'ela', 'não', 'estava', 'acostumada', 'a', 'usar', 'tanta', 'roupa', 'na', 'parte', 'de', 'cima', 'e', 'deixou', 'escapar', 'uma', 'risadinha', 'ao', 'lembrar', 'do', 'que', 'tinha', 'escondido', 'na', 'saia', 'os', 'cabelinhos', 'da', 'nuca', 'se', 'eriçaram', 'e', 'ela', 'voltou', 'se', 'para', 'ver', 'um', 'homem', 'que', 'a', 'observava', 'de', 'um', 'extremo', 'do', 'salão', 'ele', 'era', 'bonito', 'mas', 'meio', 'enfadonho', 'e', 'vestia', 'um', 'bom', 'traje', 'formal', 'mas', 'só', 'lhe', 'faltava', 'uma', 'placa', 'pendurada', 'no', 'pescoço', 'dizendo', 'que', 'era', 'um', 'guarda', 'ela', 'se', 'virou', 'e', 'avançou', 'em', 'meio', 'à', 'multidão', 'de', 'convidados', 'que', 'enchia', 'o', 'recinto', 'chegou', 'à', 'mesa', 'do', 'banquete', 'e', 'respirou', 'fundo', 'surpresa', 'com', 'o', 'bolo', 'de', 'casamento', 'uma', 'obra', 'prima', 'coberta', 'por', 'uma', 'massa', 'de', 'açúcar', 'rosa', 'creme', 'de', 'leite', 'batido', 'e', 'laços', 'de', 'caramelo', 'era', 'uma', 'réplica', 'da', 'torre', 'de', 'tecmaturgia', 'em', 'pão', 'de', 'ló', 'geleia', 'e', 'massa', 'doce', 'jinx', 'esticou', 'a', 'mão', 'pegou', 'uma', 'concha', 'do', 'ponche', 'e', 'tirou', 'um', 'pedaço', 'redondo', 'do', 'bolo', 'ela', 'o', 'virou', 'no', 'chão', 'lambeu', 'a', 'concha', 'e', 'a', 'jogou', 'de', 'volta', 'na', 'mesa', 'vários', 'dos', 'convidados', 'a', 'olharam', 'estranho', 'e', 'ela', 'sorriu', 'maniacamente', 'mostrando', 'lhes', 'os', 'dentes', 'talvez', 'achassem', 'que', 'ela', 'era', 'louca', 'talvez', 'tivessem', 'razão', 'jinx', 'deu', 'de', 'ombros', 'tanto', 'faz', 'ela', 'enfiou', 'a', 'mão', 'no', 'decote', 'e', 'tirou', 'quatro', 'mordedores', 'ela', 'enfiou', 'três', 'deles', 'no', 'buraco', 'que', 'abrira', 'no', 'bolo', 'e', 'soltou', 'o', 'outro', 'no', 'ponche', 'jinx', 'saiu']\n",
      "jinx detesta saiotes corseletes também no entanto ela sorriu maliciosamente pensando no que faria com o espaço sobressalente do vestido que roubara suas tranças azuis ficaram escondidas sob um chapéu de plumas ridículo que era a última moda em piltover ela perambulou entre os convidados do casamento mantendo o sorriso firme e tentando não gritar com as pessoas de olhares mortos ao seu redor ela precisou se esforçar para não pegar cada uma pelos ombros e sacudi las até acordarem jinx estava lá para explodir o observatório acima da mansão do conde sandvik mas quando viu que havia um casamento em andamento bem era uma oportunidade boa demais de destruição para ser deixada de lado o conde não havia poupado em tornar o casamento da filha um grande espetáculo a nata da sociedade de piltover estava lá os chefes dos grandes clãs grandes artífices de hextec e até mesmo nicodemus conseguira um convite o chefe da guarda parecia um poro gordo no seu uniforme de gala com o peito estufado e olhos arregalados perante a mesa do banquete a música de uma pequena orquestra soava entre os convidados tão lenta e ponderosa que fazia jinx querer bocejar ela preferia a música de bater os pés e girar até vomitar de zaun hexlúmens com zoetrópios e lentes de ângulos estranhos projetavam dançarinos espectrais no chão que faziam piruetas e giravam para o agrado das crianças sorridentes que nunca passaram fome sentiram dor ou perderam algo na vida mímicos e prestidigitadores se moviam pelo público agradando os convidados com os seus truques de cartas jinx já havia visto melhores os arruaceiros dos mercados da fronteira fariam muito melhor do que qualquer um desses artistas retratos dos mandachuvas de piltover podiam ser vistos nas paredes revestidas em carvalho trabalhado com cobre os homens e mulheres dos retratos olhavam de cima para as pessoas abaixo com um ar de arrogância jinx mostrou a língua para cada um deles enquanto passava sorrindo com a sua reação de desaprovação janelas com vidros coloridos pintavam o mosaico do piso com arco íris jinx saltitava alegremente sobre os quadrados ao abrir caminho para uma mesa cheia de comida que alimentaria centenas de famílias em zaun por um mês um garçom uniformizado passou por ela carregando uma bandeja de prata com copos cheios de algo dourado e espumante ela pegou um com cada mão e saiu girando e sorrindo a espuma manchou as partes de trás de vestidos e smokings dos convidados ao seu redor e ela apenas riu bebam disse ela virando o que restava nos copos ela se abaixou desajeitadamente e colocou os copos no chão de mosaico bem no caminho dos que vinham dançando e arrotou as primeiras notas de vi cabeça de melão uma canção que ela inventou ali mesmo grupos de senhoritas da alta sociedade desdenharam a sua falta de modos e jinx cobriu a boca com olhos arregalados fingindo vergonha em deboche desculpe escapou de propósito ela continuou saltitante e pegou um punhado de umas coisas de peixe estranhas da bandeja de outro garçom as arremessou para cima e pegou pelo menos uma com a boca algumas caíram no seu busto incrementado e ela as pegou com a alegria de um minerador do sumidouro que recém havia encontrado algo brilhante na lama achavam que iriam escapar de mim peixinhozinhos disse ela balançando um dedo a cada petisco pois se enganaram jinx enfiou a comida na boca e acomodou o vestido ela não estava acostumada a usar tanta roupa na parte de cima e deixou escapar uma risadinha ao lembrar do que tinha escondido na saia os cabelinhos da nuca se eriçaram e ela voltou se para ver um homem que a observava de um extremo do salão ele era bonito mas meio enfadonho e vestia um bom traje formal mas só lhe faltava uma placa pendurada no pescoço dizendo que era um guarda ela se virou e avançou em meio à multidão de convidados que enchia o recinto chegou à mesa do banquete e respirou fundo surpresa com o bolo de casamento uma obra prima coberta por uma massa de açúcar rosa creme de leite batido e laços de caramelo era uma réplica da torre de tecmaturgia em pão de ló geleia e massa doce jinx esticou a mão pegou uma concha do ponche e tirou um pedaço redondo do bolo ela o virou no chão lambeu a concha e a jogou de volta na mesa vários dos convidados a olharam estranho e ela sorriu maniacamente mostrando lhes os dentes talvez achassem que ela era louca talvez tivessem razão jinx deu de ombros tanto faz ela enfiou a mão no decote e tirou quatro mordedores ela enfiou três deles no buraco que abrira no bolo e soltou o outro no ponche jinx saiu acompanhando o comprimento da mesa com o impacto e pedaços de massa doce jinx esticou a mão pegou uma concha do ponche e tirou quatro mordedores ela enfiou três deles no buraco que abrira no bolo e soltou os cabelos ela se virou e avançou em meio à multidão de convidados que enchia o recinto chegou à mesa do banquete e respirou fundo surpresa com o peito estufado e olhos arregalados perante a mesa do banquete e sacando a zapper do coldre na perna espero que estejam com fome ela girou sobre o calcanhar e disparou um feixe de energia sobre a mesa bem na boca e acomodou o vestido levando a arma ao ombro oi gente ela gritou saltando sobre a mesa do banquete a música de bater os pés e girar até vomitar de zaun hexlúmens com zoetrópios e lentes de ângulos estranhos projetavam dançarinos espectrais no chão que faziam piruetas e giravam para o monte estarrecedor de alavancas de marfim diais de bronze e botões brilhantes do painel de controle à sua frente hora de aprender testando jinx puxou a alavanca mais próxima virotes de ferro de bestas de mão passaram por ela carregando uma bandeja de prata com copos cheios de algo dourado e espumante ela pegou um com cada mão e saiu girando e sorrindo a espuma manchou as partes de trás de vestidos e smokings dos convidados a olharam estranho e ela voltou se para ver um homem indo na sua direção uuuuh e você trouxe amigos jinx levou uma mão às costas e soltou o outro substituiu a maçã na boca de um leitão assado seu vestido estava bem mais solto sem o conteúdo extra na parte de cima e deixou escapar uma risadinha ao lembrar do que qualquer um desses artistas retratos dos mandachuvas de piltover podiam ser vistos nas paredes revestidas em carvalho trabalhado com cobre os homens e mulheres ao seu redor revelada em suas meias rosas shorts cinto de munição e top jinx arrancou o chapéu de plumas e soltou o outro substituiu a maçã na boca e acomodou o vestido levando a arma ao ombro oi gente ela gritou saltando sobre a mesa do banquete a música de uma pequena orquestra soava entre os convidados com os seus truques de cartas jinx já havia visto melhores os arruaceiros dos mercados da fronteira fariam muito melhor do que qualquer um desses artistas retratos dos mandachuvas de piltover podiam ser vistos nas paredes mas jinx apenas ria enquanto saltava pela janela estourada aterrissando no jardim abaixo ela rolou e se levantou ela tinha uma rota de fuga meio planejada mas ao olhar para a entrada da mansão como um foguete ela quase havia chegado no teto de vitrais quando parou e começou a cair novamente os convidados do casamento mantendo o sorriso firme e tentando não gritar com as pessoas de olhares mortos ao seu redor ela precisou se esforçar para não pegar cada uma pelos ombros e sacudi las até acordarem jinx estava lá para explodir o observatório acima da mansão do conde sandvik mas quando viu que havia um casamento em andamento bem era uma oportunidade boa demais de destruição para ser deixada de lado o conde não havia poupado em tornar o casamento da filha um grande espetáculo a nata da sociedade de piltover podiam ser vistos nas paredes mas jinx apenas ria enquanto saltava pela janela estourada aterrissando no jardim abaixo ela rolou e se levantou ela tinha uma rota de fuga meio planejada mas ao olhar para a entrada da mansão como um foguete ela quase havia chegado no teto de vitrais quando parou e começou a cair novamente os convidados tão lenta e ponderosa que fazia jinx querer bocejar ela preferia a música de bater os pés e girar até vomitar de zaun hexlúmens com zoetrópios e lentes de ângulos estranhos projetavam dançarinos espectrais no chão de mosaico bem no caminho dos que vinham dançando e arrotou as primeiras notas de vi cabeça de melão uma canção que ela parasse até parece os amortecedores se retraíram para dentro do chassi e jinx cobriu a boca algumas caíram no seu busto incrementado e ela voltou se para cima e deixou escapar uma risadinha ao lembrar do que qualquer um desses artistas retratos dos mandachuvas de piltover podiam ser vistos nas paredes mas jinx apenas ria enquanto saltava pela janela estourada aterrissando no jardim abaixo ela rolou e se levantou ela tinha uma rota de fuga meio planejada mas ao olhar para a entrada da mansão do conde sandvik mas quando viu que havia identificado como um foguete com fishbones que estourou a janela mais próxima e apertou o maior e mais vermelho dos botões a máquina tremeu sob ela acionando se com um zumbido cada vez mais forte e o som de energia sendo acumulada uma luz azul girou ao redor do grande disco e as portas da mansão como um guarda abrindo caminho entre os convidados na sua direção já estava na hora disse ela balançando um dedo a cada petisco pois se enganaram jinx enfiou a mão no decote e tirou um pedaço redondo do bolo ela o virou no chão que faziam piruetas e giravam para o monte estarrecedor de alavancas de marfim diais de bronze e botões brilhantes do painel de controle à sua frente hora de aprender testando jinx puxou a alavanca mais próxima virotes de ferro de bestas de mão passaram por ela e ficaram cravadas nas paredes revestidas em carvalho trabalhado com cobre os homens e mulheres dos retratos olhavam de cima para as pessoas abaixo com um zumbido cada vez mais forte e o som de energia sendo acumulada uma luz azul girou ao redor do grande disco e as portas da mansão do conde sandvik mas quando viu que havia um casamento em andamento bem era uma oportunidade boa demais de destruição para ser deixada de lado o conde não havia poupado em tornar o casamento\n"
     ]
    }
   ],
   "source": [
    "if __name__ == \"__main__\":\n",
    "    main()"
   ]
  }
 ],
 "metadata": {
  "kernelspec": {
   "display_name": "Python 3",
   "language": "python",
   "name": "python3"
  },
  "language_info": {
   "codemirror_mode": {
    "name": "ipython",
    "version": 3
   },
   "file_extension": ".py",
   "mimetype": "text/x-python",
   "name": "python",
   "nbconvert_exporter": "python",
   "pygments_lexer": "ipython3",
   "version": "3.12.1"
  }
 },
 "nbformat": 4,
 "nbformat_minor": 5
}
